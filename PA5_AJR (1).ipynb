{
 "cells": [
  {
   "cell_type": "markdown",
   "id": "c5b59fff",
   "metadata": {},
   "source": [
    "* AJ Rallo\n",
    "* Assignment 5\n",
    "* Version 1\n",
    "* Fall 2023"
   ]
  },
  {
   "cell_type": "markdown",
   "id": "cce185c3",
   "metadata": {},
   "source": [
    "### Task 1: Language Translator"
   ]
  },
  {
   "cell_type": "code",
   "execution_count": null,
   "id": "54b0822e",
   "metadata": {},
   "outputs": [
    {
     "name": "stdout",
     "output_type": "stream",
     "text": [
      "Enter an English word to translate (or 0 to exit): Hello\n"
     ]
    }
   ],
   "source": [
    "translation_dict= {'Hello':'Hola',\n",
    "           'how':'Cual',\n",
    "           'What':'Que',\n",
    "            'You':'Tu',\n",
    "           'I':'Yo',\n",
    "           'am':'soy',\n",
    "           'angry':'enojado',\n",
    "           'problem':'problema',\n",
    "           'is':'es',\n",
    "            'because':'porque'}\n",
    "def translate_word(word):\n",
    "    return translation_dict.get(word.lower(), \"Word not found in the dictionary.\")\n",
    "while True:\n",
    "    word = input(\"Enter an English word to translate (or 0 to exit): \").lower()\n",
    "    if word == \"0\":\n",
    "        print(\"Exiting the translation program.\")\n",
    "        break\n",
    "        translation = translate_word(word_to_translate)\n",
    "        print(f\"The Spanish word for {word.upper()} is {translation}.\")"
   ]
  },
  {
   "cell_type": "markdown",
   "id": "df55f66c",
   "metadata": {},
   "source": [
    "### TTask 2: Temperature Converter"
   ]
  },
  {
   "cell_type": "code",
   "execution_count": 12,
   "id": "ae972712",
   "metadata": {},
   "outputs": [
    {
     "name": "stdout",
     "output_type": "stream",
     "text": [
      "{1: 29.444444444444443, 2: 27.77777777777778, 3: 31.11111111111111, 4: 31.666666666666668, 5: 30.555555555555557, 6: 27.77777777777778, 7: 26.11111111111111, 8: 24.444444444444443, 9: 23.88888888888889, 10: 25.555555555555557, 11: 26.666666666666668, 12: 27.77777777777778, 13: 28.333333333333332, 14: 27.22222222222222, 15: 26.11111111111111, 16: 25.0, 17: 23.88888888888889, 18: 25.555555555555557, 19: 26.11111111111111, 20: 27.77777777777778, 21: 29.444444444444443, 22: 31.11111111111111, 23: 31.666666666666668, 24: 30.555555555555557, 25: 28.333333333333332, 26: 26.666666666666668, 27: 25.555555555555557, 28: 24.444444444444443, 29: 23.333333333333332, 30: 22.77777777777778}\n"
     ]
    }
   ],
   "source": [
    "temp_dict = {\n",
    "    1: 85,\n",
    "    2: 82,\n",
    "    3: 88,\n",
    "    4: 89,\n",
    "    5: 87,\n",
    "    6: 82,\n",
    "    7: 79,\n",
    "    8: 76,\n",
    "    9: 75,\n",
    "    10: 78,\n",
    "    11: 80,\n",
    "    12: 82,\n",
    "    13: 83,\n",
    "    14: 81,\n",
    "    15: 79,\n",
    "    16: 77,\n",
    "    17: 75,\n",
    "    18: 78,\n",
    "    19: 79,\n",
    "    20: 82,\n",
    "    21: 85,\n",
    "    22: 88,\n",
    "    23: 89,\n",
    "    24: 87,\n",
    "    25: 83,\n",
    "    26: 80,\n",
    "    27: 78,\n",
    "    28: 76,\n",
    "    29: 74,\n",
    "    30: 73}\n",
    "for day, temp_fahrenheit in temp_dict.items():\n",
    "    temp_celsius = (temp_fahrenheit - 32) * 5/9\n",
    "    temp_dict[day] = temp_celsius\n",
    "print(temp_dict)"
   ]
  },
  {
   "cell_type": "markdown",
   "id": "3d868108",
   "metadata": {},
   "source": [
    "### Task 3: Write a Python script to create a dictionary where the keys are numbers between 1 and 15 (both included) and the values are the squares of the keys"
   ]
  },
  {
   "cell_type": "code",
   "execution_count": 16,
   "id": "498b8eeb",
   "metadata": {},
   "outputs": [
    {
     "data": {
      "text/plain": [
       "{1: 1,\n",
       " 2: 8,\n",
       " 3: 27,\n",
       " 4: 64,\n",
       " 5: 125,\n",
       " 6: 216,\n",
       " 7: 343,\n",
       " 8: 512,\n",
       " 9: 729,\n",
       " 10: 1000,\n",
       " 11: 1331,\n",
       " 12: 1728,\n",
       " 13: 2197,\n",
       " 14: 2744,\n",
       " 15: 3375}"
      ]
     },
     "execution_count": 16,
     "metadata": {},
     "output_type": "execute_result"
    }
   ],
   "source": [
    "dict={}\n",
    "for n in range(1,16):\n",
    "    dict.update({n:n**3})\n",
    "dict"
   ]
  },
  {
   "cell_type": "markdown",
   "id": "6a2f9404",
   "metadata": {},
   "source": [
    "### Task 4: User Profile Dictionary"
   ]
  },
  {
   "cell_type": "code",
   "execution_count": 18,
   "id": "cd22f94d",
   "metadata": {},
   "outputs": [
    {
     "name": "stdout",
     "output_type": "stream",
     "text": [
      "Enter your name (or 0 to stop): aj\n",
      "Enter your age: 18\n",
      "Enter your email: ajrallo@att.net\n",
      "Enter your city: St Louis\n",
      "Enter your name (or 0 to stop): 0\n",
      "Enter the name to search for a user's profile: jack\n",
      "User not found.\n"
     ]
    }
   ],
   "source": [
    "user_profiles = {}\n",
    "while True:\n",
    "    name = input(\"Enter your name (or 0 to stop): \")\n",
    "    if name==\"0\":\n",
    "        break\n",
    "    age = input(\"Enter your age: \")\n",
    "    email = input(\"Enter your email: \")\n",
    "    city = input(\"Enter your city: \")\n",
    "    user_profiles[name] = {\n",
    "        \"Age\": age,\n",
    "        \"Email\": email,\n",
    "        \"City\": city\n",
    "    }\n",
    "search_name = input(\"Enter the name to search for a user's profile: \")\n",
    "if search_name in user_profiles:\n",
    "    print(\"User Profile:\")\n",
    "    print(f\"Name: {search_name}\")\n",
    "    print(f\"Age: {user_profiles[search_name]['Age']}\")\n",
    "    print(f\"Email: {user_profiles[search_name]['Email']}\")\n",
    "    print(f\"City: {user_profiles[search_name]['City']}\")\n",
    "else:\n",
    "    print(\"User not found.\")"
   ]
  }
 ],
 "metadata": {
  "kernelspec": {
   "display_name": "Python 3 (ipykernel)",
   "language": "python",
   "name": "python3"
  },
  "language_info": {
   "codemirror_mode": {
    "name": "ipython",
    "version": 3
   },
   "file_extension": ".py",
   "mimetype": "text/x-python",
   "name": "python",
   "nbconvert_exporter": "python",
   "pygments_lexer": "ipython3",
   "version": "3.11.4"
  }
 },
 "nbformat": 4,
 "nbformat_minor": 5
}
